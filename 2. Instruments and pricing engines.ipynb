{
 "cells": [
  {
   "cell_type": "markdown",
   "metadata": {},
   "source": [
    "## Instruments and Pricing engines"
   ]
  },
  {
   "cell_type": "code",
   "execution_count": 1,
   "metadata": {},
   "outputs": [],
   "source": [
    "from QuantLib import *"
   ]
  },
  {
   "cell_type": "code",
   "execution_count": 17,
   "metadata": {},
   "outputs": [],
   "source": [
    "#set up global evaluation date\n",
    "today = Date(7, 3, 2014)\n",
    "Settings.instance().evaluationDate = today"
   ]
  },
  {
   "cell_type": "code",
   "execution_count": 13,
   "metadata": {},
   "outputs": [
    {
     "name": "stdout",
     "output_type": "stream",
     "text": [
      "<QuantLib.QuantLib.EuropeanOption; proxy of <Swig Object of type 'EuropeanOptionPtr *' at 0x000001FDEA5F5810> >\n"
     ]
    }
   ],
   "source": [
    "# call option\n",
    "# strike price 100.0\n",
    "\n",
    "option = EuropeanOption(PlainVanillaPayoff(Option.Call, 100.0),\n",
    "                         EuropeanExercise(Date(7, June, 2014)))\n",
    "print(option)"
   ]
  },
  {
   "cell_type": "code",
   "execution_count": 6,
   "metadata": {},
   "outputs": [],
   "source": [
    "# underlying value = u\n",
    "# risk-free value = r\n",
    "# volatility = sigma\n",
    "\n",
    "u = SimpleQuote(100.0)\n",
    "r = SimpleQuote(0.01)\n",
    "sigma = SimpleQuote(0.20)"
   ]
  },
  {
   "cell_type": "code",
   "execution_count": 34,
   "metadata": {},
   "outputs": [],
   "source": [
    "# Assume Flat curves for risk-free rate and volatility\n",
    "\n",
    "riskFreeCurve = FlatForward(0, TARGET(), QuoteHandle(r), Actual360())\n",
    "volatility = BlackConstantVol(0, TARGET(), QuoteHandle(sigma), Actual360())"
   ]
  },
  {
   "cell_type": "code",
   "execution_count": 14,
   "metadata": {},
   "outputs": [
    {
     "name": "stdout",
     "output_type": "stream",
     "text": [
      "<QuantLib.QuantLib.BlackScholesProcess; proxy of <Swig Object of type 'BlackScholesProcessPtr *' at 0x000001FDEA5F5120> >\n"
     ]
    }
   ],
   "source": [
    "process = BlackScholesProcess(QuoteHandle(u), \n",
    "                              YieldTermStructureHandle(riskFreeCurve),\n",
    "                              BlackVolTermStructureHandle(volatility))\n",
    "\n",
    "print(process)"
   ]
  },
  {
   "cell_type": "code",
   "execution_count": 12,
   "metadata": {},
   "outputs": [],
   "source": [
    "engine = AnalyticEuropeanEngine(process)"
   ]
  },
  {
   "cell_type": "code",
   "execution_count": 15,
   "metadata": {},
   "outputs": [],
   "source": [
    "option.setPricingEngine(engine)"
   ]
  },
  {
   "cell_type": "code",
   "execution_count": 18,
   "metadata": {},
   "outputs": [
    {
     "name": "stdout",
     "output_type": "stream",
     "text": [
      "<QuantLib.QuantLib.EuropeanOption; proxy of <Swig Object of type 'EuropeanOptionPtr *' at 0x000001FDEA5F5810> >\n",
      "4.155543462156206\n"
     ]
    }
   ],
   "source": [
    "print(option)\n",
    "print(option.NPV())"
   ]
  },
  {
   "cell_type": "code",
   "execution_count": 20,
   "metadata": {},
   "outputs": [
    {
     "name": "stdout",
     "output_type": "stream",
     "text": [
      "Delta:  0.5302223303784392\n",
      "Gamma:  0.03934493301271913\n",
      "Vega:  20.109632428723106\n"
     ]
    }
   ],
   "source": [
    "print(\"Delta: \", option.delta())\n",
    "print(\"Gamma: \", option.gamma())\n",
    "print(\"Vega: \", option.vega())"
   ]
  },
  {
   "cell_type": "code",
   "execution_count": 21,
   "metadata": {},
   "outputs": [
    {
     "name": "stdout",
     "output_type": "stream",
     "text": [
      "option value when underlying price is 105: 7.27556357927846\n"
     ]
    }
   ],
   "source": [
    "u.setValue(105.0)\n",
    "print(\"option value when underlying price is 105:\", option.NPV())"
   ]
  },
  {
   "cell_type": "code",
   "execution_count": 26,
   "metadata": {},
   "outputs": [],
   "source": [
    "%%capture\n",
    "%pylab inline --no-import-all\n",
    "import matplotlib.pyplot as plot\n",
    "import numpy\n",
    "from IPython.display import display\n",
    "# import utils\n",
    "# utils.set_default_plot_size()"
   ]
  },
  {
   "cell_type": "code",
   "execution_count": 25,
   "metadata": {},
   "outputs": [
    {
     "data": {
      "text/plain": [
       "[<matplotlib.lines.Line2D at 0x1fdecf986d8>]"
      ]
     },
     "execution_count": 25,
     "metadata": {},
     "output_type": "execute_result"
    },
    {
     "data": {
      "image/png": "[encoded data removed]",
      "text/plain": [
       "<Figure size 432x288 with 1 Axes>"
      ]
     },
     "metadata": {
      "needs_background": "light"
     },
     "output_type": "display_data"
    }
   ],
   "source": [
    "f, ax = plot.subplots()\n",
    "xs = numpy.linspace(80.0, 120.0, 400)\n",
    "ys = []\n",
    "\n",
    "for x in xs:\n",
    "    u.setValue(x)\n",
    "    ys.append(option.NPV())\n",
    "\n",
    "ax.set_title('Option Value')\n",
    "ax.plot(xs, ys)"
   ]
  },
  {
   "cell_type": "code",
   "execution_count": 40,
   "metadata": {},
   "outputs": [
    {
     "name": "stdout",
     "output_type": "stream",
     "text": [
      "6.580816382997355\n"
     ]
    }
   ],
   "source": [
    "# Date Change\n",
    "\n",
    "u.setValue(105.0)\n",
    "r.setValue(0.01)\n",
    "sigma.setValue(0.20)\n",
    "\n",
    "print(option.NPV())"
   ]
  },
  {
   "cell_type": "code",
   "execution_count": 30,
   "metadata": {},
   "outputs": [
    {
     "name": "stdout",
     "output_type": "stream",
     "text": [
      "6.560073820974377\n"
     ]
    }
   ],
   "source": [
    "Settings.instance().evaluationDate = Date(7, April, 2014)\n",
    "print(option.NPV())"
   ]
  },
  {
   "cell_type": "code",
   "execution_count": 31,
   "metadata": {},
   "outputs": [
    {
     "data": {
      "image/png": "[encoded data removed]",
      "text/plain": [
       "<Figure size 432x288 with 1 Axes>"
      ]
     },
     "metadata": {},
     "output_type": "display_data"
    }
   ],
   "source": [
    "ys = []\n",
    "for x in xs:\n",
    "    u.setValue(x)\n",
    "    ys.append(option.NPV())\n",
    "\n",
    "ax.plot(xs, ys, '--')\n",
    "display(f)"
   ]
  },
  {
   "cell_type": "markdown",
   "metadata": {},
   "source": [
    "### Heston Model Pricing"
   ]
  },
  {
   "cell_type": "code",
   "execution_count": 41,
   "metadata": {},
   "outputs": [],
   "source": [
    "'''\n",
    "HestonProcess (const Handle< YieldTermStructure > &riskFreeRate,\n",
    "               const Handle< YieldTermStructure > &dividendYield, \n",
    "               const Handle< Quote > &s0, \n",
    "               Real v0, \n",
    "               Real kappa, \n",
    "               Real theta, \n",
    "               Real sigma, \n",
    "               Real rho, \n",
    "               Discretization d=QuadraticExponentialMartingale)\n",
    "               \n",
    "\n",
    "dS = mu * S * dt + sqrt(v) * S * dw1\n",
    "dv = k * (theta - v) * dt + sigma * sqrt(v) * dw2\n",
    "dw1 * dw2 = rho * dt\n",
    "\n",
    "\n",
    "'''\n",
    "\n",
    "\n",
    "model = HestonModel(HestonProcess(YieldTermStructureHandle(riskFreeCurve),\n",
    "                                  YieldTermStructureHandle(FlatForward(0, TARGET(),\n",
    "                                                                       0.0, Actual360())),\n",
    "                                  QuoteHandle(u),\n",
    "                                  0.04, 0.1, 0.01, 0.05, -0.75))"
   ]
  },
  {
   "cell_type": "code",
   "execution_count": 43,
   "metadata": {},
   "outputs": [
    {
     "name": "stdout",
     "output_type": "stream",
     "text": [
      "6.580816382997355\n"
     ]
    }
   ],
   "source": [
    "engine = AnalyticHestonEngine(model)\n",
    "option.setPricingEngine(engine)\n",
    "\n",
    "print(option.NPV())"
   ]
  },
  {
   "cell_type": "markdown",
   "metadata": {},
   "source": [
    "### Monte Carlo Engine"
   ]
  },
  {
   "cell_type": "code",
   "execution_count": 47,
   "metadata": {},
   "outputs": [
    {
     "name": "stdout",
     "output_type": "stream",
     "text": [
      "6.550312754336204\n",
      "Wall time: 4.28 s\n"
     ]
    }
   ],
   "source": [
    "'''\n",
    "\n",
    "MCEuropeanEngine (const ext::shared_ptr< GeneralizedBlackScholesProcess > &process, \n",
    "                  Size timeSteps, \n",
    "                  Size timeStepsPerYear, \n",
    "                  bool brownianBridge, \n",
    "                  bool antitheticVariate, \n",
    "                  Size requiredSamples, \n",
    "                  Real requiredTolerance, \n",
    "                  Size maxSamples, \n",
    "                  BigNatural seed)\n",
    "\n",
    "MCEuropeanEngine<Single Variate, RNG, S >    \n",
    "\n",
    "RNG = PseudoRandom\n",
    "\n",
    "'''\n",
    "\n",
    "engine = MCEuropeanEngine(process, \"PseudoRandom\", timeSteps=50, requiredSamples=250000)\n",
    "\n",
    "option.setPricingEngine(engine)\n",
    "\n",
    "%time print(option.NPV())"
   ]
  },
  {
   "cell_type": "markdown",
   "metadata": {},
   "source": [
    "#### Re-run the process, the value will not change, instead, change other parameters, e.g the underlying value"
   ]
  },
  {
   "cell_type": "code",
   "execution_count": 48,
   "metadata": {},
   "outputs": [
    {
     "name": "stdout",
     "output_type": "stream",
     "text": [
      "5.843483701612551\n",
      "Wall time: 4.27 s\n"
     ]
    }
   ],
   "source": [
    "u.setValue(104.0)\n",
    "%time print(option.NPV())"
   ]
  },
  {
   "cell_type": "code",
   "execution_count": null,
   "metadata": {},
   "outputs": [],
   "source": []
  }
 ],
 "metadata": {
  "kernelspec": {
   "display_name": "Python 3",
   "language": "python",
   "name": "python3"
  },
  "language_info": {
   "codemirror_mode": {
    "name": "ipython",
    "version": 3
   },
   "file_extension": ".py",
   "mimetype": "text/x-python",
   "name": "python",
   "nbconvert_exporter": "python",
   "pygments_lexer": "ipython3",
   "version": "3.7.3"
  }
 },
 "nbformat": 4,
 "nbformat_minor": 2
}
