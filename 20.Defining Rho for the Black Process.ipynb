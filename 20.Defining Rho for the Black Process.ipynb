{
 "cells": [
  {
   "cell_type": "code",
   "execution_count": 1,
   "metadata": {},
   "outputs": [],
   "source": [
    "from QuantLib import *"
   ]
  },
  {
   "cell_type": "code",
   "execution_count": 2,
   "metadata": {},
   "outputs": [],
   "source": [
    "today = Date(24, 12, 2016)\n",
    "Settings.instance().evaluationDate = today"
   ]
  },
  {
   "cell_type": "code",
   "execution_count": 3,
   "metadata": {},
   "outputs": [],
   "source": [
    "u = SimpleQuote(100.0)\n",
    "r = SimpleQuote(0.01)\n",
    "sigma = SimpleQuote(0.20)\n",
    "\n",
    "risk_free_curve = FlatForward(today, QuoteHandle(r), Actual360())\n",
    "volatility = BlackConstantVol(today, TARGET(), QuoteHandle(sigma), Actual360())"
   ]
  },
  {
   "cell_type": "code",
   "execution_count": 10,
   "metadata": {},
   "outputs": [
    {
     "name": "stdout",
     "output_type": "stream",
     "text": [
      "0.0\n"
     ]
    }
   ],
   "source": [
    "process_1 = BlackScholesProcess(QuoteHandle(u), YieldTermStructureHandle(risk_free_curve), BlackVolTermStructureHandle(volatility))\n",
    "\n",
    "print (process_1.dividendYield().zeroRate(1.0, Continuous).rate())"
   ]
  },
  {
   "cell_type": "code",
   "execution_count": 11,
   "metadata": {},
   "outputs": [
    {
     "name": "stdout",
     "output_type": "stream",
     "text": [
      "0.009999999999999893\n",
      "0.009999999999999893\n"
     ]
    }
   ],
   "source": [
    "process_2 = BlackProcess(QuoteHandle(u), YieldTermStructureHandle(risk_free_curve), BlackVolTermStructureHandle(volatility))\n",
    "\n",
    "print (process_2.riskFreeRate().zeroRate(1.0, Continuous).rate())\n",
    "print (process_2.dividendYield().zeroRate(1.0, Continuous).rate())"
   ]
  },
  {
   "cell_type": "code",
   "execution_count": 12,
   "metadata": {},
   "outputs": [
    {
     "name": "stdout",
     "output_type": "stream",
     "text": [
      "4.337597216336533\n"
     ]
    }
   ],
   "source": [
    "option_1 = EuropeanOption(PlainVanillaPayoff(Option.Call, 100.0), EuropeanExercise(today + 100))\n",
    "option_1.setPricingEngine(AnalyticEuropeanEngine(process_1))\n",
    "\n",
    "print(option_1.NPV())"
   ]
  },
  {
   "cell_type": "code",
   "execution_count": 13,
   "metadata": {},
   "outputs": [
    {
     "name": "stdout",
     "output_type": "stream",
     "text": [
      "4.191615257389808\n"
     ]
    }
   ],
   "source": [
    "option_2 = EuropeanOption(PlainVanillaPayoff(Option.Call, 100.0), EuropeanExercise(today + 100))\n",
    "option_2.setPricingEngine(AnalyticEuropeanEngine(process_2))\n",
    "\n",
    "print(option_2.NPV())"
   ]
  },
  {
   "cell_type": "code",
   "execution_count": 14,
   "metadata": {},
   "outputs": [],
   "source": [
    "def greek(option, quote, dx):\n",
    "    x0 = quote.value()\n",
    "    quote.setValue(x0 + dx)\n",
    "    P_u = option.NPV()\n",
    "    quote.setValue(x0 - dx)\n",
    "    P_d = option.NPV()\n",
    "    quote.setValue(x0)\n",
    "    return (P_u - P_d)/ (2*dx)"
   ]
  },
  {
   "cell_type": "code",
   "execution_count": 17,
   "metadata": {},
   "outputs": [
    {
     "name": "stdout",
     "output_type": "stream",
     "text": [
      "0.5315063340142601\n",
      "0.531506323010289\n"
     ]
    }
   ],
   "source": [
    "print(option_1.delta())\n",
    "print(greek(option_1, u, 0.01))"
   ]
  },
  {
   "cell_type": "code",
   "execution_count": 18,
   "metadata": {},
   "outputs": [
    {
     "name": "stdout",
     "output_type": "stream",
     "text": [
      "0.5195711146255227\n",
      "0.5195711052036867\n"
     ]
    }
   ],
   "source": [
    "print(option_2.delta())\n",
    "print(greek(option_2, u, 0.01))"
   ]
  },
  {
   "cell_type": "code",
   "execution_count": 19,
   "metadata": {},
   "outputs": [
    {
     "name": "stdout",
     "output_type": "stream",
     "text": [
      "20.96050033373808\n",
      "20.96045787132743\n"
     ]
    }
   ],
   "source": [
    "print(option_1.vega())\n",
    "print(greek(option_1, sigma, 0.01))"
   ]
  },
  {
   "cell_type": "code",
   "execution_count": 20,
   "metadata": {},
   "outputs": [
    {
     "name": "stdout",
     "output_type": "stream",
     "text": [
      "20.938677847075486\n",
      "20.938653679838048\n"
     ]
    }
   ],
   "source": [
    "print(option_2.vega())\n",
    "print(greek(option_2, sigma, 0.01))"
   ]
  },
  {
   "cell_type": "code",
   "execution_count": 21,
   "metadata": {},
   "outputs": [
    {
     "name": "stdout",
     "output_type": "stream",
     "text": [
      "13.559176718080407\n",
      "13.55895831082643\n"
     ]
    }
   ],
   "source": [
    "print(option_1.rho())\n",
    "print(greek(option_1, r, 0.01))"
   ]
  },
  {
   "cell_type": "code",
   "execution_count": 22,
   "metadata": {},
   "outputs": [
    {
     "name": "stdout",
     "output_type": "stream",
     "text": [
      "13.268193390322908\n",
      "-1.1643390688454769\n"
     ]
    }
   ],
   "source": [
    "print(option_2.rho())\n",
    "print(greek(option_2, r, 0.01))"
   ]
  },
  {
   "cell_type": "code",
   "execution_count": 23,
   "metadata": {},
   "outputs": [
    {
     "name": "stdout",
     "output_type": "stream",
     "text": [
      "-1.1643375714971693\n",
      "-1.1643390688454769\n"
     ]
    }
   ],
   "source": [
    "print(option_2.rho() + option_2.dividendRho())\n",
    "print(greek(option_2, r, 0.01))"
   ]
  },
  {
   "cell_type": "markdown",
   "metadata": {},
   "source": [
    "Black_scholes process, dividends q(t) = 0  \n",
    "Black proceess, q(t) = r(t), which makes cost of carry b equal 0"
   ]
  },
  {
   "cell_type": "code",
   "execution_count": 24,
   "metadata": {},
   "outputs": [],
   "source": [
    "# Black-Scholes-Merton Process\n",
    "\n",
    "process_3 = BlackScholesMertonProcess(QuoteHandle(u),\n",
    "                                      YieldTermStructureHandle(risk_free_curve),\n",
    "                                      YieldTermStructureHandle(risk_free_curve),\n",
    "                                      BlackVolTermStructureHandle(volatility))\n",
    "\n",
    "option_3 = EuropeanOption(PlainVanillaPayoff(Option.Call, 100.0), EuropeanExercise(today + 100))\n",
    "option_3.setPricingEngine(AnalyticEuropeanEngine(process_3))"
   ]
  },
  {
   "cell_type": "code",
   "execution_count": 25,
   "metadata": {},
   "outputs": [
    {
     "name": "stdout",
     "output_type": "stream",
     "text": [
      "13.268193390322908\n",
      "-1.1643375864700545\n",
      "-1.1643375714971693\n"
     ]
    }
   ],
   "source": [
    "print(option_3.rho())\n",
    "print(greek(option_3, r, 0.001))\n",
    "print(option_3.rho() + option_3.dividendRho())"
   ]
  },
  {
   "cell_type": "code",
   "execution_count": null,
   "metadata": {},
   "outputs": [],
   "source": []
  }
 ],
 "metadata": {
  "kernelspec": {
   "display_name": "Python 3",
   "language": "python",
   "name": "python3"
  },
  "language_info": {
   "codemirror_mode": {
    "name": "ipython",
    "version": 3
   },
   "file_extension": ".py",
   "mimetype": "text/x-python",
   "name": "python",
   "nbconvert_exporter": "python",
   "pygments_lexer": "ipython3",
   "version": "3.7.3"
  }
 },
 "nbformat": 4,
 "nbformat_minor": 2
}
