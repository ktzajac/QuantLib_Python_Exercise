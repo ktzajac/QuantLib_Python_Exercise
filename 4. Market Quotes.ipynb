{
 "cells": [
  {
   "cell_type": "markdown",
   "metadata": {},
   "source": [
    "## Market Quotes"
   ]
  },
  {
   "cell_type": "code",
   "execution_count": 1,
   "metadata": {},
   "outputs": [],
   "source": [
    "%%capture\n",
    "%pylab inline --no-import-all\n",
    "import matplotlib.pyplot as plot"
   ]
  },
  {
   "cell_type": "code",
   "execution_count": 2,
   "metadata": {},
   "outputs": [],
   "source": [
    "from QuantLib import *"
   ]
  },
  {
   "cell_type": "code",
   "execution_count": 3,
   "metadata": {},
   "outputs": [],
   "source": [
    "today = Date(17, October, 2016)\n",
    "Settings.instance().evaluationDate = today"
   ]
  },
  {
   "cell_type": "code",
   "execution_count": 4,
   "metadata": {},
   "outputs": [],
   "source": [
    "# maturities in year and coupons of bond\n",
    "\n",
    "data = [(2, 0.02), (4, 0.0225), (6, 0.025), (8, 0.0275),\n",
    "        (10, 0.03), (12, 0.0225), (14, 0.035), (16, 0.0375),\n",
    "        (18, 0.04), (20, 0.0425), (22, 0.045), (24, 0.0475),\n",
    "        (26, 0.05), (28, 0.0525), (30, 0.055)]"
   ]
  },
  {
   "cell_type": "code",
   "execution_count": 5,
   "metadata": {},
   "outputs": [
    {
     "name": "stdout",
     "output_type": "stream",
     "text": [
      "<QuantLib.QuantLib.FittedBondDiscountCurve; proxy of <Swig Object of type 'FittedBondDiscountCurvePtr *' at 0x00000205121FEF30> >\n"
     ]
    }
   ],
   "source": [
    "calendar = TARGET()\n",
    "settlement = calendar.advance(today, 3, Days)\n",
    "quotes = []\n",
    "helpers = []\n",
    "\n",
    "for length, coupon in data:\n",
    "    maturity = calendar.advance(settlement, length, Years)\n",
    "    \n",
    "    '''\n",
    "    Schedule (Date effectiveDate,\n",
    "              const Date &terminationDate,\n",
    "              const Period &tenor,\n",
    "              const Calendar &calendar,\n",
    "              BusinessDayConvention convention,\n",
    "              BusinessDayConvention terminationDateConvention,\n",
    "              DateGeneration::Rule rule,\n",
    "              bool endOfMonth,\n",
    "              const Date &firstDate=Date(),\n",
    "              const Date &nextToLastDate=Date())\n",
    "    \n",
    "    '''\n",
    "    \n",
    "    schedule = Schedule(settlement, maturity, Period(Annual), calendar, ModifiedFollowing, ModifiedFollowing,\n",
    "                        DateGeneration.Backward, False)\n",
    "    \n",
    "    quote = SimpleQuote(100.0)\n",
    "    quotes.append(quote)\n",
    "    helpers.append(FixedRateBondHelper(QuoteHandle(quote), 3, 100.0, schedule, [coupon], SimpleDayCounter(),\n",
    "                                       ModifiedFollowing))\n",
    "    \n",
    "# Nelson Siegel Fitting\n",
    "    \n",
    "curve = FittedBondDiscountCurve(0, calendar, helpers,\n",
    "                                SimpleDayCounter(), NelsonSiegelFitting())\n",
    "print(curve)"
   ]
  },
  {
   "cell_type": "code",
   "execution_count": 6,
   "metadata": {},
   "outputs": [
    {
     "data": {
      "text/plain": [
       "[<matplotlib.lines.Line2D at 0x2050fc2ae10>]"
      ]
     },
     "execution_count": 6,
     "metadata": {},
     "output_type": "execute_result"
    },
    {
     "data": {
      "image/png": "[encoded data removed]",
      "text/plain": [
       "<Figure size 432x288 with 1 Axes>"
      ]
     },
     "metadata": {
      "needs_background": "light"
     },
     "output_type": "display_data"
    }
   ],
   "source": [
    "sample_times = numpy.linspace(0.0, 30.0, 301)\n",
    "sample_discounts = [curve.discount(t) for t in sample_times]\n",
    "\n",
    "f, ax = plot.subplots()\n",
    "ax.set_ylim(0.0, 1.0)\n",
    "ax.plot(sample_times, sample_discounts)"
   ]
  },
  {
   "cell_type": "code",
   "execution_count": 7,
   "metadata": {},
   "outputs": [
    {
     "name": "stdout",
     "output_type": "stream",
     "text": [
      "107.39971595680348\n"
     ]
    }
   ],
   "source": [
    "schedule = Schedule(today, calendar.advance(today, 15, Years), Period(Semiannual),\n",
    "                    calendar, ModifiedFollowing, ModifiedFollowing,\n",
    "                    DateGeneration.Backward, False)\n",
    "\n",
    "bond = FixedRateBond(3, 100.0, schedule, [0.04], Actual360())\n",
    "bond.setPricingEngine(DiscountingBondEngine(YieldTermStructureHandle(curve)))\n",
    "\n",
    "print(bond.cleanPrice())"
   ]
  },
  {
   "cell_type": "code",
   "execution_count": 8,
   "metadata": {},
   "outputs": [],
   "source": [
    "prices = []\n",
    "def print_price():\n",
    "    p = bond.cleanPrice()\n",
    "    prices.append(p)\n",
    "    print (p)\n",
    "\n",
    "o = Observer(print_price)\n",
    "o.registerWith(bond)"
   ]
  },
  {
   "cell_type": "code",
   "execution_count": 9,
   "metadata": {},
   "outputs": [
    {
     "name": "stdout",
     "output_type": "stream",
     "text": [
      "107.39971595680348\n",
      "107.50121703579792\n"
     ]
    }
   ],
   "source": [
    "quotes[2].setValue(101.0)"
   ]
  },
  {
   "cell_type": "code",
   "execution_count": 10,
   "metadata": {},
   "outputs": [
    {
     "name": "stdout",
     "output_type": "stream",
     "text": [
      "107.50121703579792\n",
      "107.39971606765626\n"
     ]
    }
   ],
   "source": [
    "quotes[2].setValue(100.0)"
   ]
  },
  {
   "cell_type": "code",
   "execution_count": 11,
   "metadata": {},
   "outputs": [
    {
     "name": "stdout",
     "output_type": "stream",
     "text": [
      "107.39971606765626\n",
      "107.00893951422616\n",
      "107.00893951422616\n",
      "106.97561755062837\n",
      "106.97561755062837\n",
      "107.07501246649782\n",
      "107.07501246649782\n",
      "107.23495217611912\n",
      "107.23495217611912\n",
      "107.42077019706413\n",
      "107.42077019706413\n",
      "107.57983665944668\n",
      "107.57983665944668\n",
      "107.76749597119054\n",
      "107.76749597119054\n",
      "107.94033784353351\n",
      "107.94033784353351\n",
      "108.08978432327415\n",
      "108.08978432327415\n",
      "108.20809090662547\n",
      "108.20809090662547\n",
      "108.28916916072663\n",
      "108.28916916072663\n",
      "108.32984650723807\n",
      "108.32984650723807\n",
      "108.33134951035102\n",
      "108.33134951035102\n",
      "108.2982620419443\n",
      "108.2982620419443\n",
      "108.23731993181521\n"
     ]
    }
   ],
   "source": [
    "prices = []\n",
    "for q in quotes:\n",
    "    q.setValue(101.0)"
   ]
  },
  {
   "cell_type": "code",
   "execution_count": 12,
   "metadata": {},
   "outputs": [
    {
     "name": "stdout",
     "output_type": "stream",
     "text": [
      "[107.39971606765626, 107.00893951422616, 106.97561755062837, 107.07501246649782, 107.23495217611912, 107.42077019706413, 107.57983665944668, 107.76749597119054, 107.94033784353351, 108.08978432327415, 108.20809090662547, 108.28916916072663, 108.32984650723807, 108.33134951035102, 108.2982620419443, 108.23731993181521]\n"
     ]
    },
    {
     "data": {
      "text/plain": [
       "[<matplotlib.lines.Line2D at 0x20512ad4f28>]"
      ]
     },
     "execution_count": 12,
     "metadata": {},
     "output_type": "execute_result"
    },
    {
     "data": {
      "image/png": "[encoded data removed]",
      "text/plain": [
       "<Figure size 432x288 with 1 Axes>"
      ]
     },
     "metadata": {
      "needs_background": "light"
     },
     "output_type": "display_data"
    }
   ],
   "source": [
    "unique_prices = prices[::2] + prices[-1::]\n",
    "print(unique_prices)\n",
    "plt.plot(unique_prices, '-')"
   ]
  },
  {
   "cell_type": "code",
   "execution_count": 13,
   "metadata": {},
   "outputs": [],
   "source": [
    "bond.freeze()"
   ]
  },
  {
   "cell_type": "code",
   "execution_count": 14,
   "metadata": {},
   "outputs": [],
   "source": [
    "for q in quotes:\n",
    "    q.setValue(101.5)"
   ]
  },
  {
   "cell_type": "code",
   "execution_count": 15,
   "metadata": {},
   "outputs": [
    {
     "name": "stdout",
     "output_type": "stream",
     "text": [
      "108.64098866943493\n"
     ]
    }
   ],
   "source": [
    "bond.unfreeze()"
   ]
  },
  {
   "cell_type": "code",
   "execution_count": 16,
   "metadata": {},
   "outputs": [],
   "source": [
    "del o"
   ]
  },
  {
   "cell_type": "code",
   "execution_count": 20,
   "metadata": {},
   "outputs": [],
   "source": [
    "flag = {}\n",
    "flag['status'] = 'down'\n",
    "def set_flag():\n",
    "    flag['status'] = 'up'\n",
    "    \n",
    "o = Observer(set_flag)\n",
    "o.registerWith(bond)"
   ]
  },
  {
   "cell_type": "code",
   "execution_count": 21,
   "metadata": {},
   "outputs": [
    {
     "name": "stdout",
     "output_type": "stream",
     "text": [
      "{'status': 'down'}\n"
     ]
    }
   ],
   "source": [
    "print(flag)"
   ]
  },
  {
   "cell_type": "code",
   "execution_count": 22,
   "metadata": {},
   "outputs": [],
   "source": [
    "for q in quotes:\n",
    "    q.setValue(100.0)"
   ]
  },
  {
   "cell_type": "code",
   "execution_count": 23,
   "metadata": {},
   "outputs": [
    {
     "name": "stdout",
     "output_type": "stream",
     "text": [
      "{'status': 'up'}\n"
     ]
    }
   ],
   "source": [
    "print(flag)"
   ]
  },
  {
   "cell_type": "code",
   "execution_count": 25,
   "metadata": {},
   "outputs": [
    {
     "data": {
      "text/plain": [
       "107.39971625694973"
      ]
     },
     "execution_count": 25,
     "metadata": {},
     "output_type": "execute_result"
    }
   ],
   "source": [
    "bond.cleanPrice()"
   ]
  },
  {
   "cell_type": "code",
   "execution_count": 26,
   "metadata": {},
   "outputs": [],
   "source": [
    "del o"
   ]
  },
  {
   "cell_type": "code",
   "execution_count": 27,
   "metadata": {},
   "outputs": [],
   "source": [
    "for q in quotes:\n",
    "    q.setValue(101.0)"
   ]
  },
  {
   "cell_type": "code",
   "execution_count": 28,
   "metadata": {},
   "outputs": [
    {
     "data": {
      "text/plain": [
       "108.2373196925413"
      ]
     },
     "execution_count": 28,
     "metadata": {},
     "output_type": "execute_result"
    }
   ],
   "source": [
    "bond.cleanPrice()"
   ]
  },
  {
   "cell_type": "code",
   "execution_count": null,
   "metadata": {},
   "outputs": [],
   "source": []
  }
 ],
 "metadata": {
  "kernelspec": {
   "display_name": "Python 3",
   "language": "python",
   "name": "python3"
  },
  "language_info": {
   "codemirror_mode": {
    "name": "ipython",
    "version": 3
   },
   "file_extension": ".py",
   "mimetype": "text/x-python",
   "name": "python",
   "nbconvert_exporter": "python",
   "pygments_lexer": "ipython3",
   "version": "3.7.3"
  }
 },
 "nbformat": 4,
 "nbformat_minor": 2
}
