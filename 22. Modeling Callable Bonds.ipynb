{
 "cells": [
  {
   "cell_type": "code",
   "execution_count": 1,
   "metadata": {},
   "outputs": [],
   "source": [
    "from QuantLib import *\n",
    "import numpy as np\n",
    "import matplotlib.pyplot as plt\n",
    "%matplotlib inline"
   ]
  },
  {
   "cell_type": "code",
   "execution_count": 2,
   "metadata": {},
   "outputs": [],
   "source": [
    "calc_date = Date(16, 8, 2016)\n",
    "Settings.instance().evaluationDate = calc_date"
   ]
  },
  {
   "cell_type": "code",
   "execution_count": 3,
   "metadata": {},
   "outputs": [],
   "source": [
    "day_count = ActualActual(ActualActual.Bond)\n",
    "rate = 0.035\n",
    "ts = FlatForward(calc_date, rate, day_count, Compounded, Semiannual)\n",
    "ts_handle = YieldTermStructureHandle(ts)"
   ]
  },
  {
   "cell_type": "code",
   "execution_count": 4,
   "metadata": {},
   "outputs": [],
   "source": [
    "callability_schedule = CallabilitySchedule()\n",
    "call_price = 100.0\n",
    "call_date = Date(15, September, 2016)\n",
    "null_calendar = NullCalendar()\n",
    "\n",
    "for i in range(0, 24):\n",
    "    callability_price = CallabilityPrice(call_price, CallabilityPrice.Clean)\n",
    "    callability_schedule.append(Callability(callability_price, Callability.Call, call_date))\n",
    "    \n",
    "    call_date = null_calendar.advance(call_date, 3, Months)"
   ]
  },
  {
   "cell_type": "code",
   "execution_count": 5,
   "metadata": {},
   "outputs": [],
   "source": [
    "issue_date = Date(16, September, 2014)\n",
    "maturity_date = Date(15, September, 2022)\n",
    "calendar = UnitedStates(UnitedStates.GovernmentBond)\n",
    "tenor = Period(Quarterly)\n",
    "accrual_convention = Unadjusted\n",
    "\n",
    "schedule = Schedule(issue_date, maturity_date, tenor, calendar, accrual_convention, accrual_convention, DateGeneration.Backward, False)"
   ]
  },
  {
   "cell_type": "code",
   "execution_count": 26,
   "metadata": {},
   "outputs": [],
   "source": [
    "settlement_days = 3\n",
    "face_amount = 100\n",
    "accrual_daycount = ActualActual(ActualActual.Bond)\n",
    "coupon = 0.1\n",
    "\n",
    "bond = CallableFixedRateBond(settlement_days, face_amount,\n",
    "                             schedule, [coupon], accrual_daycount,\n",
    "                             Following, face_amount, issue_date,\n",
    "                             callability_schedule)"
   ]
  },
  {
   "cell_type": "code",
   "execution_count": 27,
   "metadata": {},
   "outputs": [],
   "source": [
    "def value_bond(a, s, grid_points, bond):\n",
    "    model = HullWhite(ts_handle, a, s)\n",
    "    engine = TreeCallableFixedRateBondEngine(model, grid_points)\n",
    "    bond.setPricingEngine(engine)\n",
    "    return bond"
   ]
  },
  {
   "cell_type": "code",
   "execution_count": 28,
   "metadata": {},
   "outputs": [
    {
     "name": "stdout",
     "output_type": "stream",
     "text": [
      "Bond Price:  90.42697932689072\n",
      "December 15th, 2014     2.4725274725274637\n",
      "March 16th, 2015     2.499999999999991\n",
      "June 15th, 2015     2.499999999999991\n",
      "September 15th, 2015     2.499999999999991\n",
      "December 15th, 2015     2.499999999999991\n",
      "March 15th, 2016     2.499999999999991\n",
      "June 15th, 2016     2.499999999999991\n",
      "September 15th, 2016     2.499999999999991\n",
      "December 15th, 2016     2.499999999999991\n",
      "March 15th, 2017     2.499999999999991\n",
      "June 15th, 2017     2.499999999999991\n",
      "September 15th, 2017     2.499999999999991\n",
      "December 15th, 2017     2.499999999999991\n",
      "March 15th, 2018     2.499999999999991\n",
      "June 15th, 2018     2.499999999999991\n",
      "September 17th, 2018     2.499999999999991\n",
      "December 17th, 2018     2.499999999999991\n",
      "March 15th, 2019     2.499999999999991\n",
      "June 17th, 2019     2.499999999999991\n",
      "September 16th, 2019     2.499999999999991\n",
      "December 16th, 2019     2.499999999999991\n",
      "March 16th, 2020     2.499999999999991\n",
      "June 15th, 2020     2.499999999999991\n",
      "September 15th, 2020     2.499999999999991\n",
      "December 15th, 2020     2.499999999999991\n",
      "March 15th, 2021     2.499999999999991\n",
      "June 15th, 2021     2.499999999999991\n",
      "September 15th, 2021     2.499999999999991\n",
      "December 15th, 2021     2.499999999999991\n",
      "March 15th, 2022     2.499999999999991\n",
      "June 15th, 2022     2.499999999999991\n",
      "September 15th, 2022     2.499999999999991\n",
      "September 15th, 2022     100.0\n"
     ]
    }
   ],
   "source": [
    "value_bond(0.03, 0.12, 40, bond)\n",
    "print(\"Bond Price: \", bond.cleanPrice())\n",
    "\n",
    "for c in bond.cashflows():\n",
    "    print(c.date(), \"   \", c.amount())"
   ]
  },
  {
   "cell_type": "code",
   "execution_count": 29,
   "metadata": {},
   "outputs": [],
   "source": [
    "sigmas = np.arange(0.001, 0.15, 0.001)\n",
    "prices = [value_bond(0.03, s, 40, bond).cleanPrice() for s in sigmas]"
   ]
  },
  {
   "cell_type": "code",
   "execution_count": 30,
   "metadata": {},
   "outputs": [
    {
     "data": {
      "text/plain": [
       "Text(0, 0.5, 'Price')"
      ]
     },
     "execution_count": 30,
     "metadata": {},
     "output_type": "execute_result"
    },
    {
     "data": {
      "image/png": "[encoded data removed]",
      "text/plain": [
       "<Figure size 432x288 with 1 Axes>"
      ]
     },
     "metadata": {
      "needs_background": "light"
     },
     "output_type": "display_data"
    }
   ],
   "source": [
    "plt.plot(sigmas, prices)\n",
    "plt.xlabel(\"Sigma\", size=12)\n",
    "plt.ylabel(\"Price\", size=12)"
   ]
  },
  {
   "cell_type": "code",
   "execution_count": 31,
   "metadata": {},
   "outputs": [
    {
     "name": "stdout",
     "output_type": "stream",
     "text": [
      "December 15th, 2014     2.4725274725274637\n",
      "March 16th, 2015     2.499999999999991\n",
      "June 15th, 2015     2.499999999999991\n",
      "September 15th, 2015     2.499999999999991\n",
      "December 15th, 2015     2.499999999999991\n",
      "March 15th, 2016     2.499999999999991\n",
      "June 15th, 2016     2.499999999999991\n",
      "September 15th, 2016     2.499999999999991\n",
      "December 15th, 2016     2.499999999999991\n",
      "March 15th, 2017     2.499999999999991\n",
      "June 15th, 2017     2.499999999999991\n",
      "September 15th, 2017     2.499999999999991\n",
      "December 15th, 2017     2.499999999999991\n",
      "March 15th, 2018     2.499999999999991\n",
      "June 15th, 2018     2.499999999999991\n",
      "September 17th, 2018     2.499999999999991\n",
      "December 17th, 2018     2.499999999999991\n",
      "March 15th, 2019     2.499999999999991\n",
      "June 17th, 2019     2.499999999999991\n",
      "September 16th, 2019     2.499999999999991\n",
      "December 16th, 2019     2.499999999999991\n",
      "March 16th, 2020     2.499999999999991\n",
      "June 15th, 2020     2.499999999999991\n",
      "September 15th, 2020     2.499999999999991\n",
      "December 15th, 2020     2.499999999999991\n",
      "March 15th, 2021     2.499999999999991\n",
      "June 15th, 2021     2.499999999999991\n",
      "September 15th, 2021     2.499999999999991\n",
      "December 15th, 2021     2.499999999999991\n",
      "March 15th, 2022     2.499999999999991\n",
      "June 15th, 2022     2.499999999999991\n",
      "September 15th, 2022     2.499999999999991\n",
      "September 15th, 2022     100.0\n"
     ]
    }
   ],
   "source": [
    "for c in bond.cashflows():\n",
    "    print(c.date(), \"   \", c.amount())"
   ]
  },
  {
   "cell_type": "code",
   "execution_count": null,
   "metadata": {},
   "outputs": [],
   "source": []
  }
 ],
 "metadata": {
  "kernelspec": {
   "display_name": "Python 3",
   "language": "python",
   "name": "python3"
  },
  "language_info": {
   "codemirror_mode": {
    "name": "ipython",
    "version": 3
   },
   "file_extension": ".py",
   "mimetype": "text/x-python",
   "name": "python",
   "nbconvert_exporter": "python",
   "pygments_lexer": "ipython3",
   "version": "3.7.3"
  }
 },
 "nbformat": 4,
 "nbformat_minor": 2
}
