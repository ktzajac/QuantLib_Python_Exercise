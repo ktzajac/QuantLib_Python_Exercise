{
 "cells": [
  {
   "cell_type": "markdown",
   "metadata": {},
   "source": [
    "### Numerical Greeks Calculation"
   ]
  },
  {
   "cell_type": "code",
   "execution_count": 1,
   "metadata": {},
   "outputs": [],
   "source": [
    "from QuantLib import *"
   ]
  },
  {
   "cell_type": "code",
   "execution_count": 2,
   "metadata": {},
   "outputs": [],
   "source": [
    "today = Date(8, October, 2014)\n",
    "Settings.instance().evaluationDate = today"
   ]
  },
  {
   "cell_type": "code",
   "execution_count": 4,
   "metadata": {},
   "outputs": [],
   "source": [
    "# Knock-in barrier option\n",
    "'''\n",
    "BarrierOption reference Option(barrierType, barrier, rebate,\n",
    "                                      payoff, exercise);\n",
    "                                                                            \n",
    "'''\n",
    "\n",
    "option = BarrierOption(Barrier.UpIn,\n",
    "                       120.0,         # barrier\n",
    "                       0.0,           # rebate\n",
    "                       PlainVanillaPayoff(Option.Call, 100.0),\n",
    "                       EuropeanExercise(Date(8, January, 2015)))"
   ]
  },
  {
   "cell_type": "code",
   "execution_count": 5,
   "metadata": {},
   "outputs": [],
   "source": [
    "u = SimpleQuote(100.0)\n",
    "r = SimpleQuote(0.01)\n",
    "sigma = SimpleQuote(0.20)"
   ]
  },
  {
   "cell_type": "code",
   "execution_count": 6,
   "metadata": {},
   "outputs": [],
   "source": [
    "'''\n",
    "DayCounter dayCounter = Actual365Fixed();\n",
    "Handle<Quote> h1(riskFreeRate);\n",
    "Handle<Quote> h2(volatility);\n",
    "Handle<YieldTermStructure> flatRate(\n",
    "                                    ext::shared_ptr<YieldTermStructure>(\n",
    "                                    new FlatForward(0, NullCalendar(),\n",
    "                                    h1, dayCounter)));\n",
    "Handle<BlackVolTermStructure> flatVol(\n",
    "                                    ext::shared_ptr<BlackVolTermStructure>(\n",
    "                                    new BlackConstantVol(0, NullCalendar(),\n",
    "                                    h2, dayCounter)));\n",
    "\n",
    "\n",
    "'''\n",
    "\n",
    "\n",
    "\n",
    "riskFreeCurve = FlatForward(0, TARGET(), QuoteHandle(r), Actual360())\n",
    "volatility = BlackConstantVol(0, TARGET(), QuoteHandle(sigma), Actual360())"
   ]
  },
  {
   "cell_type": "code",
   "execution_count": 7,
   "metadata": {},
   "outputs": [],
   "source": [
    "process = BlackScholesProcess(QuoteHandle(u),\n",
    "                              YieldTermStructureHandle(riskFreeCurve),\n",
    "                              BlackVolTermStructureHandle(volatility))"
   ]
  },
  {
   "cell_type": "code",
   "execution_count": 8,
   "metadata": {},
   "outputs": [],
   "source": [
    "option.setPricingEngine(AnalyticBarrierEngine(process))"
   ]
  },
  {
   "cell_type": "code",
   "execution_count": 9,
   "metadata": {},
   "outputs": [
    {
     "name": "stdout",
     "output_type": "stream",
     "text": [
      "1.3657980739109867\n"
     ]
    }
   ],
   "source": [
    "print(option.NPV())"
   ]
  },
  {
   "cell_type": "markdown",
   "metadata": {},
   "source": [
    "### There is no Greeks, e.g Delta\n",
    "\n",
    "Using numerical differentiation to approximate the Greeks\n",
    "\n",
    "Delta = (P(u0 + h) - P(u0 - h))/2h  \n",
    "Gamma = (P(u0 + h) - 2 * P(u0) + P(u0 - h)) / square(h)"
   ]
  },
  {
   "cell_type": "code",
   "execution_count": 10,
   "metadata": {},
   "outputs": [],
   "source": [
    "u0 = u.value()\n",
    "h  = 0.01"
   ]
  },
  {
   "cell_type": "code",
   "execution_count": 11,
   "metadata": {},
   "outputs": [
    {
     "name": "stdout",
     "output_type": "stream",
     "text": [
      "1.3657980739109867\n"
     ]
    }
   ],
   "source": [
    "P0 = option.NPV()\n",
    "print(P0)"
   ]
  },
  {
   "cell_type": "code",
   "execution_count": 12,
   "metadata": {},
   "outputs": [
    {
     "name": "stdout",
     "output_type": "stream",
     "text": [
      "1.3688112201958083\n"
     ]
    }
   ],
   "source": [
    "u.setValue(u0 + h)\n",
    "P_plus = option.NPV()\n",
    "print(P_plus)"
   ]
  },
  {
   "cell_type": "code",
   "execution_count": 13,
   "metadata": {},
   "outputs": [
    {
     "name": "stdout",
     "output_type": "stream",
     "text": [
      "1.3627900998610207\n"
     ]
    }
   ],
   "source": [
    "u.setValue(u0 - h)\n",
    "P_minus = option.NPV()\n",
    "print(P_minus)"
   ]
  },
  {
   "cell_type": "code",
   "execution_count": 14,
   "metadata": {},
   "outputs": [],
   "source": [
    "u.setValue(u0)"
   ]
  },
  {
   "cell_type": "code",
   "execution_count": 15,
   "metadata": {},
   "outputs": [
    {
     "name": "stdout",
     "output_type": "stream",
     "text": [
      "0.3010560167393761\n",
      "0.05172234855521651\n"
     ]
    }
   ],
   "source": [
    "# Delta and Gamma Calculation\n",
    "\n",
    "Delta = (P_plus - P_minus) / (2 * h)\n",
    "Gamma = (P_plus - 2 * P0 + P_minus) / (h * h)\n",
    "\n",
    "print(Delta)\n",
    "print(Gamma)"
   ]
  },
  {
   "cell_type": "code",
   "execution_count": 17,
   "metadata": {},
   "outputs": [
    {
     "name": "stdout",
     "output_type": "stream",
     "text": [
      "6.531038494277386\n"
     ]
    }
   ],
   "source": [
    "# Rho Calculation\n",
    "\n",
    "r0 = r.value()\n",
    "h  = 0.0001\n",
    "r.setValue(r0 + h)\n",
    "P_plus = option.NPV()\n",
    "r.setValue(r0)\n",
    "Rho = (P_plus - P0) / h\n",
    "\n",
    "print(Rho)"
   ]
  },
  {
   "cell_type": "code",
   "execution_count": 18,
   "metadata": {},
   "outputs": [
    {
     "name": "stdout",
     "output_type": "stream",
     "text": [
      "26.52519924198904\n"
     ]
    }
   ],
   "source": [
    "# Vega Calculation\n",
    "\n",
    "sigma0 = sigma.value()\n",
    "h = 0.0001\n",
    "sigma.setValue(sigma0 + h)\n",
    "P_plus = option.NPV()\n",
    "sigma.setValue(sigma0)\n",
    "Vega = (P_plus - P0) / h\n",
    "\n",
    "print(Vega)"
   ]
  },
  {
   "cell_type": "code",
   "execution_count": 19,
   "metadata": {},
   "outputs": [
    {
     "name": "stdout",
     "output_type": "stream",
     "text": [
      "-10.770888399441302\n"
     ]
    }
   ],
   "source": [
    "# Theta Calculation\n",
    "\n",
    "Settings.instance().evaluationDate = today + 1\n",
    "P1 = option.NPV()\n",
    "h  = 1/365\n",
    "\n",
    "Theta = (P1 - P0) / h\n",
    "\n",
    "print(Theta)"
   ]
  },
  {
   "cell_type": "code",
   "execution_count": null,
   "metadata": {},
   "outputs": [],
   "source": []
  }
 ],
 "metadata": {
  "kernelspec": {
   "display_name": "Python 3",
   "language": "python",
   "name": "python3"
  },
  "language_info": {
   "codemirror_mode": {
    "name": "ipython",
    "version": 3
   },
   "file_extension": ".py",
   "mimetype": "text/x-python",
   "name": "python",
   "nbconvert_exporter": "python",
   "pygments_lexer": "ipython3",
   "version": "3.7.3"
  }
 },
 "nbformat": 4,
 "nbformat_minor": 2
}
