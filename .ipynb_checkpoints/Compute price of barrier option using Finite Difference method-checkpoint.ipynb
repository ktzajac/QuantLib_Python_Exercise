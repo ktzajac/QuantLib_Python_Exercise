{
 "cells": [
  {
   "cell_type": "code",
   "execution_count": 1,
   "metadata": {},
   "outputs": [],
   "source": [
    "from QuantLib import *\n",
    "import matplotlib.pyplot as plt\n",
    "\n",
    "%matplotlib inline"
   ]
  },
  {
   "cell_type": "markdown",
   "metadata": {},
   "source": [
    "## Data for barrier option"
   ]
  },
  {
   "cell_type": "code",
   "execution_count": 9,
   "metadata": {},
   "outputs": [
    {
     "name": "stdout",
     "output_type": "stream",
     "text": [
      "barrier = 80.0\n",
      "barrierType = DownOut\n",
      "optionType = Call\n",
      "rebate = 0.0\n",
      "underlying = 100\n",
      "strike = 105\n",
      "rf = 0.05\n",
      "sigma = 0.2\n",
      "maturity = 12\n",
      "divYield = 0.0\n"
     ]
    }
   ],
   "source": [
    "barrier, barrierType, optionType, rebate = (80.0, Barrier.DownOut, Option.Call, 0.0)\n",
    "\n",
    "# maturity is in days and must be an integer\n",
    "underlying, strike, rf, sigma, maturity, divYield = (100, 105, 5e-2, 20e-2, 12, 0.0)\n",
    "\n",
    "barrier_data = dict((name, eval(name)) for name in ['barrier', 'barrierType', 'optionType',\n",
    "                                                    'rebate', 'underlying', 'strike',\n",
    "                                                    'rf', 'sigma', 'maturity', 'divYield'])\n",
    "\n",
    "barrier_data['barrierType'] = ['DownIn', 'UpIn', 'DownOut',' UpOut'][barrier_data['barrierType']]\n",
    "barrier_data['optionType'] = ['Put', '???', 'Call'][barrier_data['optionType']+ 1]\n",
    "\n",
    "# print(barrier_data)\n",
    "\n",
    "for k in barrier_data.keys():\n",
    "    print(\"{} = {}\".format(k, barrier_data[k]))"
   ]
  },
  {
   "cell_type": "markdown",
   "metadata": {},
   "source": [
    "### Compute price of barrier option using Finite Difference method for different grid sizes"
   ]
  },
  {
   "cell_type": "code",
   "execution_count": 14,
   "metadata": {},
   "outputs": [
    {
     "name": "stdout",
     "output_type": "stream",
     "text": [
      "0.17364409514481594\n"
     ]
    }
   ],
   "source": [
    "Grids = (5, 10, 25, 50, 100, 1000, 5000)\n",
    "maxG = Grids[-1]\n",
    "\n",
    "today = Settings.instance().evaluationDate\n",
    "maturity_date = today + int(maturity)\n",
    "\n",
    "# print(maturity_date)\n",
    "\n",
    "process = BlackScholesMertonProcess(QuoteHandle(SimpleQuote(underlying)),\n",
    "                                    YieldTermStructureHandle(FlatForward(today, divYield, Thirty360())),\n",
    "                                    YieldTermStructureHandle(FlatForward(today, rf, Thirty360())),\n",
    "                                    BlackVolTermStructureHandle(BlackConstantVol(today, NullCalendar(), sigma, Thirty360())))\n",
    "\n",
    "option = BarrierOption(barrierType, barrier, rebate,\n",
    "                       PlainVanillaPayoff(optionType, strike),\n",
    "                       EuropeanExercise(maturity_date))\n",
    "\n",
    "option.setPricingEngine(AnalyticBarrierEngine(process))\n",
    "trueValue = option.NPV()\n",
    "\n",
    "print(trueValue)"
   ]
  },
  {
   "cell_type": "code",
   "execution_count": 17,
   "metadata": {},
   "outputs": [],
   "source": [
    "uErrors = []\n",
    "tErrors = []\n",
    "\n",
    "for Grid in Grids:\n",
    "    option.setPricingEngine(FdBlackScholesBarrierEngine(process, maxG, Grid))\n",
    "    uErrors.append(abs(option.NPV()/trueValue - 1))\n",
    "    option.setPricingEngine(FdBlackScholesBarrierEngine(process, Grid, maxG))\n",
    "    tErrors.append(abs(option.NPV()/trueValue - 1))\n",
    "# print(uErrors)"
   ]
  },
  {
   "cell_type": "code",
   "execution_count": 27,
   "metadata": {},
   "outputs": [
    {
     "name": "stdout",
     "output_type": "stream",
     "text": [
      "True (Analytic) Value = 0.173644\n",
      "    TimeGrid   AssetGrid      %Error\n",
      "        5000           5   162.8966%\n",
      "        5000          10    48.0183%\n",
      "        5000          25     6.6885%\n",
      "        5000          50     1.6660%\n",
      "        5000         100     0.4170%\n",
      "        5000        1000     0.0041%\n",
      "        5000        5000     0.0002%\n",
      "           5        5000     0.6351%\n",
      "          10        5000     0.1744%\n",
      "          25        5000     0.0289%\n",
      "          50        5000     0.0071%\n",
      "         100        5000     0.0016%\n",
      "        1000        5000     0.0001%\n",
      "        5000        5000     0.0002%\n"
     ]
    }
   ],
   "source": [
    "print(\"True (Analytic) Value = %2.6f\" %(trueValue))\n",
    "print(\"{:>12}{:>12}{:>12}\".format(\"TimeGrid\", \"AssetGrid\", \"%Error\"))\n",
    "for T, A, E in zip([maxG for i in Grids], Grids, uErrors):\n",
    "    print(\"{:12}{:12}{:12.4%}\".format(T, A, E))\n",
    "for T, A, E in zip(Grids,[maxG for i in Grids] , tErrors):\n",
    "    print(\"{:12}{:12}{:12.4%}\".format(T, A, E))"
   ]
  },
  {
   "cell_type": "markdown",
   "metadata": {},
   "source": [
    "#### Plot pricing errors of finite difference method for different grid sizes"
   ]
  },
  {
   "cell_type": "code",
   "execution_count": 28,
   "metadata": {},
   "outputs": [
    {
     "data": {
      "image/png": "[encoded data removed]",
      "text/plain": [
       "<Figure size 432x288 with 1 Axes>"
      ]
     },
     "metadata": {
      "needs_background": "light"
     },
     "output_type": "display_data"
    }
   ],
   "source": [
    "plt.loglog(Grids, uErrors, 'r-', Grids, tErrors, 'b--')\n",
    "plt.xlabel('No of Grid Points (Log Scale)')\n",
    "plt.ylabel('Relative Error (Log Scale)')\n",
    "plt.legend(['Asset Grid Points', 'Time Grid Points'])\n",
    "plt.title('Increasing Asset or Time Grid Keeping the Other Grid at' + str(maxG))\n",
    "plt.show()"
   ]
  },
  {
   "cell_type": "code",
   "execution_count": null,
   "metadata": {},
   "outputs": [],
   "source": []
  }
 ],
 "metadata": {
  "kernelspec": {
   "display_name": "Python 3",
   "language": "python",
   "name": "python3"
  },
  "language_info": {
   "codemirror_mode": {
    "name": "ipython",
    "version": 3
   },
   "file_extension": ".py",
   "mimetype": "text/x-python",
   "name": "python",
   "nbconvert_exporter": "python",
   "pygments_lexer": "ipython3",
   "version": "3.7.3"
  }
 },
 "nbformat": 4,
 "nbformat_minor": 2
}
