{
 "cells": [
  {
   "cell_type": "markdown",
   "metadata": {},
   "source": [
    "### Future Price\n",
    "\n",
    "dF_t = sigma_t * F_t * dW"
   ]
  },
  {
   "cell_type": "code",
   "execution_count": 1,
   "metadata": {},
   "outputs": [],
   "source": [
    "from QuantLib import * \n",
    "import math"
   ]
  },
  {
   "cell_type": "code",
   "execution_count": 2,
   "metadata": {},
   "outputs": [],
   "source": [
    "calendar = UnitedStates()\n",
    "business_convention = ModifiedFollowing\n",
    "settlement_days = 0\n",
    "day_count = ActualActual()"
   ]
  },
  {
   "cell_type": "markdown",
   "metadata": {},
   "source": [
    "### Option on treasury futures ( 10 Yr Note TYF6C 119)\n",
    "\n",
    "Call option  \n",
    "Maturity_date: 24th, 12, 2015  \n",
    "strike price: 119  \n",
    "current future price: 126.95  \n",
    "volatility: 11.567%  \n",
    "risk free rate: 0.105%  \n",
    "current_date: 1, Dec, 2015  "
   ]
  },
  {
   "cell_type": "code",
   "execution_count": 7,
   "metadata": {},
   "outputs": [],
   "source": [
    "interest_rate = 0.00105\n",
    "calc_date = Date(1, 12, 2015)\n",
    "yield_curve = FlatForward(calc_date, interest_rate, day_count, Compounded, Continuous)"
   ]
  },
  {
   "cell_type": "code",
   "execution_count": 13,
   "metadata": {},
   "outputs": [
    {
     "name": "stdout",
     "output_type": "stream",
     "text": [
      "0.9999338551661785\n",
      "0.06301369863013695\n"
     ]
    }
   ],
   "source": [
    "Settings.instance().evaluationDate = calc_date\n",
    "option_maturity_date = Date(24, 12, 2015)\n",
    "strike = 119\n",
    "spot = 126.95\n",
    "volatility = 11.567/100.\n",
    "flavor = Option.Call\n",
    "\n",
    "discount = yield_curve.discount(option_maturity_date)\n",
    "strikepayoff = PlainVanillaPayoff(flavor, strike)\n",
    "print(discount)\n",
    "T = yield_curve.dayCounter().yearFraction(calc_date, option_maturity_date)\n",
    "print(T)\n",
    "stddev = volatility * math.sqrt(T)\n",
    "\n",
    "black = BlackCalculator(strikepayoff, spot, stddev, discount)"
   ]
  },
  {
   "cell_type": "code",
   "execution_count": 22,
   "metadata": {},
   "outputs": [
    {
     "name": "stdout",
     "output_type": "stream",
     "text": [
      "Option Price        : 7.9656\n",
      "Delta               : 0.9874\n",
      "Gamma               : 0.0088\n",
      "Theta               : -0.9373\n",
      "Vega                : 1.0303\n",
      "Rho                 : 7.3972\n"
     ]
    }
   ],
   "source": [
    "print (\"%-20s: %4.4f\" %(\"Option Price\", black.value()))\n",
    "print (\"%-20s: %4.4f\" %(\"Delta\", black.delta(spot)))\n",
    "print (\"%-20s: %4.4f\" %(\"Gamma\", black.gamma(spot)))\n",
    "print (\"%-20s: %4.4f\" %(\"Theta\", black.theta(spot, T)))\n",
    "print (\"%-20s: %4.4f\" %(\"Vega\", black.vega(T)))\n",
    "print (\"%-20s: %4.4f\" %(\"Rho\", black.rho(T)))"
   ]
  },
  {
   "cell_type": "markdown",
   "metadata": {},
   "source": [
    "### Natural Gas Futures Option\n",
    "\n",
    "Call Option  \n",
    "strike: 3.5  \n",
    "spot: 2.919  \n",
    "volatility: 0.4251  \n",
    "interest rate: 0.15%  "
   ]
  },
  {
   "cell_type": "code",
   "execution_count": 23,
   "metadata": {},
   "outputs": [],
   "source": [
    "interest_rate = 0.0015\n",
    "calc_date = Date(23, 9, 2015)\n",
    "yield_curve = FlatForward(calc_date, interest_rate, day_count, Compounded, Continuous)"
   ]
  },
  {
   "cell_type": "code",
   "execution_count": 25,
   "metadata": {},
   "outputs": [],
   "source": [
    "Settings.instance().evaluationDate = calc_date\n",
    "\n",
    "\n",
    "strike = 3.5\n",
    "spot = 2.919\n",
    "volatility = 0.4251\n",
    "flavor = Option.Call\n",
    "T = 96.12/365\n",
    "\n",
    "discount = yield_curve.discount(T)\n",
    "stddev = volatility * math.sqrt(T)\n",
    "strikepayoff = PlainVanillaPayoff(flavor, strike)\n",
    "black = BlackCalculator(strikepayoff, spot, stddev, discount)"
   ]
  },
  {
   "cell_type": "code",
   "execution_count": 26,
   "metadata": {},
   "outputs": [
    {
     "name": "stdout",
     "output_type": "stream",
     "text": [
      "Option Price        : 0.0789\n",
      "Delta               : 0.2347\n",
      "Gamma               : 0.4822\n",
      "Theta               : -0.3711\n",
      "Vega                : 0.4600\n",
      "Rho                 : 0.1597\n"
     ]
    }
   ],
   "source": [
    "print (\"%-20s: %4.4f\" %(\"Option Price\", black.value()))\n",
    "print (\"%-20s: %4.4f\" %(\"Delta\", black.delta(spot)))\n",
    "print (\"%-20s: %4.4f\" %(\"Gamma\", black.gamma(spot)))\n",
    "print (\"%-20s: %4.4f\" %(\"Theta\", black.theta(spot, T)))\n",
    "print (\"%-20s: %4.4f\" %(\"Vega\", black.vega(T)))\n",
    "print (\"%-20s: %4.4f\" %(\"Rho\", black.rho(T)))"
   ]
  },
  {
   "cell_type": "code",
   "execution_count": null,
   "metadata": {},
   "outputs": [],
   "source": []
  }
 ],
 "metadata": {
  "kernelspec": {
   "display_name": "Python 3",
   "language": "python",
   "name": "python3"
  },
  "language_info": {
   "codemirror_mode": {
    "name": "ipython",
    "version": 3
   },
   "file_extension": ".py",
   "mimetype": "text/x-python",
   "name": "python",
   "nbconvert_exporter": "python",
   "pygments_lexer": "ipython3",
   "version": "3.7.3"
  }
 },
 "nbformat": 4,
 "nbformat_minor": 2
}
