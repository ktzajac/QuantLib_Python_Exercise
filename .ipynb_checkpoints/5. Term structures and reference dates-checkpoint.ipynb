{
 "cells": [
  {
   "cell_type": "markdown",
   "metadata": {},
   "source": [
    "### Setup"
   ]
  },
  {
   "cell_type": "code",
   "execution_count": 1,
   "metadata": {},
   "outputs": [],
   "source": [
    "from QuantLib import *"
   ]
  },
  {
   "cell_type": "code",
   "execution_count": 2,
   "metadata": {},
   "outputs": [],
   "source": [
    "Settings.instance().evaluationDate = Date(3, October, 2014)"
   ]
  },
  {
   "cell_type": "markdown",
   "metadata": {},
   "source": [
    "### Specifying the reference date of a term structure"
   ]
  },
  {
   "cell_type": "code",
   "execution_count": null,
   "metadata": {},
   "outputs": [],
   "source": [
    "helpers = [ SwapRateHelper(QuoteHandle(SimpleQuote(rate/100/0)), \n",
    "                           Period(*tenor), TARGET(),\n",
    "                           Annual, Unadjusted, Thirty360(),\n",
    "                           Euribor6M())\n",
    "            for tenor, rate in [((2,Years), 0.201),\n",
    "                                ((3,Years), 0.258),\n",
    "                                ((5,Years), 0.464),\n",
    "                                ((10,Years), 1.151),\n",
    "                                ((15,Years), 1.588)] ]"
   ]
  }
 ],
 "metadata": {
  "kernelspec": {
   "display_name": "Python 3",
   "language": "python",
   "name": "python3"
  },
  "language_info": {
   "codemirror_mode": {
    "name": "ipython",
    "version": 3
   },
   "file_extension": ".py",
   "mimetype": "text/x-python",
   "name": "python",
   "nbconvert_exporter": "python",
   "pygments_lexer": "ipython3",
   "version": "3.7.3"
  }
 },
 "nbformat": 4,
 "nbformat_minor": 2
}
