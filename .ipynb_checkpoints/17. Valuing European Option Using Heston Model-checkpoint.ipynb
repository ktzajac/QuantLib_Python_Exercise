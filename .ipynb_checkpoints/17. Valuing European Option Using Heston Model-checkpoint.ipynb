{
 "cells": [
  {
   "cell_type": "markdown",
   "metadata": {},
   "source": [
    "Heston Model\n",
    "\n",
    "dS_t = mu * S_t * dt + sqrt(V_t) * S_t * dW_t_1\n",
    "\n",
    "dV_t = k*(theta - V_t) + sigma * sqrt(V_t) * dW_t_2\n",
    "\n",
    "S_t : value of asst at time t  \n",
    "mu: expected growth rate of the log normal stock value  \n",
    "V_t : the variance of the asset S_t  \n",
    "W_t_1 : the stochastic process governing the S_t process  \n",
    "theta: value of mean reversion for the variance V_t  \n",
    "k: the strength of mean reversion   \n",
    "sigma: volatility of volatility  \n",
    "W_t_2: the stochastic process governing the V_t process  \n",
    "rho : correlation between W_t_1 and W_t_2"
   ]
  },
  {
   "cell_type": "code",
   "execution_count": 1,
   "metadata": {},
   "outputs": [],
   "source": [
    "from QuantLib import *\n",
    "import matplotlib.pyplot as plt\n",
    "import numpy as np\n",
    "%matplotlib inline\n",
    "import math"
   ]
  },
  {
   "cell_type": "markdown",
   "metadata": {},
   "source": [
    "Europearn call option for AAPL  \n",
    "strike price: 130  \n",
    "Maturity: 15th Jan 2016  \n",
    "spot price: 127.62  \n",
    "volatility of stock: 20%  \n",
    "dividend yield: 1.62%  \n",
    "short time risk free rate: 0.1%  \n",
    "current data: 8th, May, 2015"
   ]
  },
  {
   "cell_type": "code",
   "execution_count": 4,
   "metadata": {},
   "outputs": [],
   "source": [
    "# option parameter\n",
    "# strike_price = 110.0\n",
    "# payoff = PlainVanillaPayoff(Option.Call, Strike_price)\n",
    "\n",
    "# option data\n",
    "maturity_date = Date(15, 1, 2016)\n",
    "spot_price = 127.62\n",
    "strike_price = 130.0\n",
    "volatility = 0.20\n",
    "dividend_rate = 0.0163\n",
    "option_type = Option.Call\n",
    "\n",
    "risk_free_rate = 0.001\n",
    "day_count = Actual365Fixed()\n",
    "calendar = UnitedStates()\n",
    "\n",
    "calculation_date = Date(8, 5, 2015)\n",
    "Settings.instance().evaluationDate = calculation_date"
   ]
  },
  {
   "cell_type": "code",
   "execution_count": 8,
   "metadata": {},
   "outputs": [],
   "source": [
    "# construct the European Option\n",
    "\n",
    "payoff = PlainVanillaPayoff(option_type, strike_price)\n",
    "exercise = EuropeanExercise(maturity_date)\n",
    "european_option = VanillaOption(payoff, exercise)"
   ]
  },
  {
   "cell_type": "code",
   "execution_count": 9,
   "metadata": {},
   "outputs": [],
   "source": [
    "# construct the Heston Process\n",
    "\n",
    "v0 = volatility * volatility\n",
    "kappa = 0.1\n",
    "theta = v0\n",
    "sigma = 0.1\n",
    "rho = -0.75\n",
    "\n",
    "spot_handle = QuoteHandle(SimpleQuote(spot_price))\n",
    "flat_ts = YieldTermStructureHandle(FlatForward(calculation_date, risk_free_rate, day_count))\n",
    "dividend_yield = YieldTermStructureHandle(FlatForward(calculation_date, dividend_rate, day_count))\n",
    "heston_process = HestonProcess(flat_ts, dividend_yield, spot_handle, v0, kappa, theta, sigma, rho)"
   ]
  },
  {
   "cell_type": "code",
   "execution_count": 16,
   "metadata": {},
   "outputs": [
    {
     "name": "stdout",
     "output_type": "stream",
     "text": [
      "The Heston Model price is  6.533866879681\n"
     ]
    }
   ],
   "source": [
    "engine = AnalyticHestonEngine(HestonModel(heston_process), 0.01, 1000)\n",
    "european_option.setPricingEngine(engine)\n",
    "h_price = european_option.NPV()\n",
    "print (\"The Heston Model price is \", h_price)"
   ]
  },
  {
   "cell_type": "code",
   "execution_count": 17,
   "metadata": {},
   "outputs": [
    {
     "name": "stdout",
     "output_type": "stream",
     "text": [
      "The Black-Scholes-Merton model price is  6.749271812460607\n"
     ]
    }
   ],
   "source": [
    "flat_vol_ts = BlackVolTermStructureHandle(BlackConstantVol(calculation_date, calendar, volatility, day_count))\n",
    "bsm_process = BlackScholesMertonProcess(spot_handle, dividend_yield, flat_ts, flat_vol_ts)\n",
    "european_option.setPricingEngine(AnalyticEuropeanEngine(bsm_process))\n",
    "\n",
    "bs_price = european_option.NPV()\n",
    "print(\"The Black-Scholes-Merton model price is \", bs_price)"
   ]
  },
  {
   "cell_type": "markdown",
   "metadata": {},
   "source": [
    "The difference is due to the stochastic modeling of the volatility as a CIR-process"
   ]
  },
  {
   "cell_type": "code",
   "execution_count": null,
   "metadata": {},
   "outputs": [],
   "source": []
  }
 ],
 "metadata": {
  "kernelspec": {
   "display_name": "Python 3",
   "language": "python",
   "name": "python3"
  },
  "language_info": {
   "codemirror_mode": {
    "name": "ipython",
    "version": 3
   },
   "file_extension": ".py",
   "mimetype": "text/x-python",
   "name": "python",
   "nbconvert_exporter": "python",
   "pygments_lexer": "ipython3",
   "version": "3.7.3"
  }
 },
 "nbformat": 4,
 "nbformat_minor": 2
}
