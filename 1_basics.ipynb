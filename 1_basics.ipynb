{
 "cells": [
  {
   "cell_type": "markdown",
   "metadata": {},
   "source": [
    "## QuantLib Basics"
   ]
  },
  {
   "cell_type": "code",
   "execution_count": 1,
   "metadata": {},
   "outputs": [],
   "source": [
    "from QuantLib import *"
   ]
  },
  {
   "cell_type": "code",
   "execution_count": 3,
   "metadata": {},
   "outputs": [
    {
     "name": "stdout",
     "output_type": "stream",
     "text": [
      "March 31st, 2019\n"
     ]
    }
   ],
   "source": [
    "date = Date(31, 3, 2019)\n",
    "print(date)"
   ]
  },
  {
   "cell_type": "code",
   "execution_count": 4,
   "metadata": {},
   "outputs": [
    {
     "name": "stdout",
     "output_type": "stream",
     "text": [
      "3-31-2019\n"
     ]
    }
   ],
   "source": [
    "print (\"%d-%d-%d\" %(date.month(), date.dayOfMonth(), date.year()))"
   ]
  },
  {
   "cell_type": "code",
   "execution_count": 8,
   "metadata": {},
   "outputs": [
    {
     "data": {
      "text/plain": [
       "True"
      ]
     },
     "execution_count": 8,
     "metadata": {},
     "output_type": "execute_result"
    }
   ],
   "source": [
    "date.weekday() == Sunday"
   ]
  },
  {
   "cell_type": "code",
   "execution_count": 10,
   "metadata": {},
   "outputs": [
    {
     "name": "stdout",
     "output_type": "stream",
     "text": [
      "Add a day     : April 1st, 2019\n",
      "Subtrct a day : March 30th, 2019\n",
      "Add a week    : April 7th, 2019\n",
      "Add a month   : April 30th, 2019\n",
      "Add a year    : March 31st, 2020\n"
     ]
    }
   ],
   "source": [
    "print(\"Add a day     :\", date + 1)\n",
    "print(\"Subtrct a day :\", date - 1)\n",
    "print(\"Add a week    :\", date + Period(1, Weeks))\n",
    "print(\"Add a month   :\", date + Period(1, Months))\n",
    "print(\"Add a year    :\", date + Period(1, Years))"
   ]
  },
  {
   "cell_type": "markdown",
   "metadata": {},
   "source": [
    "### Different Holiday Method"
   ]
  },
  {
   "cell_type": "code",
   "execution_count": 12,
   "metadata": {},
   "outputs": [
    {
     "name": "stdout",
     "output_type": "stream",
     "text": [
      "Add 60 days:  May 30th, 2015\n",
      "Add 60 Business days in US:  June 24th, 2015\n",
      "Add 60 Business days in Italy:  June 26th, 2015\n"
     ]
    }
   ],
   "source": [
    "date = Date(31, 3, 2015)\n",
    "us_calendar = UnitedStates()\n",
    "italy_calendar = Italy()\n",
    "\n",
    "period = Period(60, Days)\n",
    "raw_date = date + period\n",
    "us_date = us_calendar.advance(date, period)\n",
    "italy_date = italy_calendar.advance(date, period)\n",
    "\n",
    "print(\"Add 60 days: \", raw_date)\n",
    "print(\"Add 60 Business days in US: \", us_date)\n",
    "print(\"Add 60 Business days in Italy: \", italy_date)"
   ]
  },
  {
   "cell_type": "code",
   "execution_count": 13,
   "metadata": {},
   "outputs": [
    {
     "name": "stdout",
     "output_type": "stream",
     "text": [
      "business days in US:  60\n",
      "business days in italy:  60\n"
     ]
    }
   ],
   "source": [
    "us_busdays = us_calendar.businessDaysBetween(date, us_date)\n",
    "italy_busdays = italy_calendar.businessDaysBetween(date, italy_date)\n",
    "\n",
    "print(\"business days in US: \", us_busdays)\n",
    "print(\"business days in italy: \", italy_busdays)"
   ]
  },
  {
   "cell_type": "code",
   "execution_count": 14,
   "metadata": {},
   "outputs": [
    {
     "name": "stdout",
     "output_type": "stream",
     "text": [
      "Add 60 business days in US-Italy:  June 29th, 2015\n",
      "Business days US-Italy:  60\n"
     ]
    }
   ],
   "source": [
    "# join two countries calendar to calculate business days\n",
    "joint_calendar = JointCalendar(us_calendar, italy_calendar)\n",
    "joint_date = joint_calendar.advance(date, period)\n",
    "joint_busdays = joint_calendar.businessDaysBetween(date, joint_date)\n",
    "\n",
    "print(\"Add 60 business days in US-Italy: \", joint_date)\n",
    "print(\"Business days US-Italy: \", joint_busdays)"
   ]
  },
  {
   "cell_type": "markdown",
   "metadata": {},
   "source": [
    "### Schedule, for coupon or call option"
   ]
  },
  {
   "cell_type": "code",
   "execution_count": 17,
   "metadata": {},
   "outputs": [
    {
     "name": "stdout",
     "output_type": "stream",
     "text": [
      "1 January 2nd, 2015\n",
      "2 February 2nd, 2015\n",
      "3 March 2nd, 2015\n",
      "4 April 1st, 2015\n",
      "5 May 1st, 2015\n",
      "6 June 1st, 2015\n",
      "7 July 1st, 2015\n",
      "8 August 3rd, 2015\n",
      "9 September 1st, 2015\n",
      "10 October 1st, 2015\n",
      "11 November 2nd, 2015\n",
      "12 December 1st, 2015\n",
      "13 January 4th, 2016\n"
     ]
    }
   ],
   "source": [
    "effective_date = Date(1, 1, 2015)\n",
    "termination_date = Date(1, 1, 2016)\n",
    "tenor = Period(Monthly)\n",
    "calendar = UnitedStates()\n",
    "business_convention = Following\n",
    "termination_business_convention = Following\n",
    "date_generation = DateGeneration.Forward\n",
    "end_of_month = False\n",
    "\n",
    "schedule = Schedule(effective_date,\n",
    "                    termination_date,\n",
    "                    tenor,\n",
    "                    calendar,\n",
    "                    business_convention,\n",
    "                    termination_business_convention,\n",
    "                    date_generation,\n",
    "                    end_of_month)\n",
    "\n",
    "for i, d in enumerate(schedule):\n",
    "    print(i+1, d)"
   ]
  },
  {
   "cell_type": "code",
   "execution_count": 22,
   "metadata": {},
   "outputs": [
    {
     "name": "stdout",
     "output_type": "stream",
     "text": [
      "1 January 2nd, 2015\n",
      "2 January 15th, 2015\n",
      "3 February 2nd, 2015\n",
      "4 March 2nd, 2015\n",
      "5 April 1st, 2015\n",
      "6 May 1st, 2015\n",
      "7 June 1st, 2015\n",
      "8 July 1st, 2015\n",
      "9 August 3rd, 2015\n",
      "10 September 1st, 2015\n",
      "11 October 1st, 2015\n",
      "12 November 2nd, 2015\n",
      "13 December 1st, 2015\n",
      "14 January 4th, 2016\n"
     ]
    }
   ],
   "source": [
    "# short stub in the front\n",
    "effective_date = Date(1, 1, 2015)\n",
    "termination_date = Date(1, 1, 2016)\n",
    "first_date = Date(15, 1, 2015)\n",
    "\n",
    "schedule = Schedule(effective_date,\n",
    "                    termination_date,\n",
    "                    tenor,\n",
    "                    calendar,\n",
    "                    business_convention,\n",
    "                    termination_business_convention,\n",
    "                    DateGeneration.Backward,\n",
    "                    end_of_month,\n",
    "                    first_date)\n",
    "\n",
    "for i, d in enumerate(schedule):\n",
    "    print(i+1, d)"
   ]
  },
  {
   "cell_type": "code",
   "execution_count": 27,
   "metadata": {},
   "outputs": [
    {
     "name": "stdout",
     "output_type": "stream",
     "text": [
      "1 January 2nd, 2015\n",
      "2 February 2nd, 2015\n",
      "3 March 2nd, 2015\n",
      "4 April 1st, 2015\n",
      "5 May 1st, 2015\n",
      "6 June 1st, 2015\n",
      "7 July 1st, 2015\n",
      "8 August 3rd, 2015\n",
      "9 September 1st, 2015\n",
      "10 October 1st, 2015\n",
      "11 November 2nd, 2015\n",
      "12 December 1st, 2015\n",
      "13 December 15th, 2015\n",
      "14 January 4th, 2016\n"
     ]
    }
   ],
   "source": [
    "# short stub at the back\n",
    "effective_date = Date(1, 1, 2015)\n",
    "termination_date = Date(1, 1, 2016)\n",
    "penultimate_date = Date(15, 12, 2015)\n",
    "\n",
    "schedule = Schedule(effective_date,\n",
    "                    termination_date,\n",
    "                    tenor,\n",
    "                    calendar,\n",
    "                    business_convention,\n",
    "                    termination_business_convention,\n",
    "                    DateGeneration.Forward,\n",
    "                    end_of_month,\n",
    "                    Date(),\n",
    "                    penultimate_date)\n",
    "\n",
    "for i, d in enumerate(schedule):\n",
    "    print(i+1, d)"
   ]
  },
  {
   "cell_type": "code",
   "execution_count": 28,
   "metadata": {},
   "outputs": [
    {
     "name": "stdout",
     "output_type": "stream",
     "text": [
      "1 December 15th, 2014\n",
      "2 February 2nd, 2015\n",
      "3 March 2nd, 2015\n",
      "4 April 1st, 2015\n",
      "5 May 1st, 2015\n",
      "6 June 1st, 2015\n",
      "7 July 1st, 2015\n",
      "8 August 3rd, 2015\n",
      "9 September 1st, 2015\n",
      "10 October 1st, 2015\n",
      "11 November 2nd, 2015\n",
      "12 December 1st, 2015\n",
      "13 January 4th, 2016\n"
     ]
    }
   ],
   "source": [
    "# long stub in the front\n",
    "first_date = Date(1, 2, 2015)\n",
    "effective_date = Date(15, 12, 2014)\n",
    "termination_date = Date(1, 1, 2016)\n",
    "\n",
    "\n",
    "schedule = Schedule(effective_date,\n",
    "                    termination_date,\n",
    "                    tenor,\n",
    "                    calendar,\n",
    "                    business_convention,\n",
    "                    termination_business_convention,\n",
    "                    DateGeneration.Backward,\n",
    "                    end_of_month,\n",
    "                    first_date)\n",
    "\n",
    "for i, d in enumerate(schedule):\n",
    "    print(i+1, d)"
   ]
  },
  {
   "cell_type": "code",
   "execution_count": 29,
   "metadata": {},
   "outputs": [
    {
     "name": "stdout",
     "output_type": "stream",
     "text": [
      "1 January 2nd, 2015\n",
      "2 February 2nd, 2015\n",
      "3 March 2nd, 2015\n",
      "4 April 1st, 2015\n",
      "5 May 1st, 2015\n",
      "6 June 1st, 2015\n",
      "7 July 1st, 2015\n",
      "8 August 3rd, 2015\n",
      "9 September 1st, 2015\n",
      "10 October 1st, 2015\n",
      "11 November 2nd, 2015\n",
      "12 December 1st, 2015\n",
      "13 January 15th, 2016\n"
     ]
    }
   ],
   "source": [
    "# long stub at the back\n",
    "effective_date = Date(1, 1, 2015)\n",
    "termination_date = Date(15, 1, 2016)\n",
    "penultimate_date = Date(1, 12, 2015)\n",
    "\n",
    "schedule = Schedule(effective_date,\n",
    "                    termination_date,\n",
    "                    tenor,\n",
    "                    calendar,\n",
    "                    business_convention,\n",
    "                    termination_business_convention,\n",
    "                    DateGeneration.Forward,\n",
    "                    end_of_month,\n",
    "                    Date(),\n",
    "                    penultimate_date)\n",
    "\n",
    "for i, d in enumerate(schedule):\n",
    "    print(i+1, d)"
   ]
  },
  {
   "cell_type": "code",
   "execution_count": 31,
   "metadata": {},
   "outputs": [
    {
     "name": "stdout",
     "output_type": "stream",
     "text": [
      "1 January 4th, 2016\n",
      "2 February 2nd, 2015\n",
      "3 March 2nd, 2015\n",
      "4 April 1st, 2015\n",
      "5 May 2nd, 2015\n",
      "6 June 2nd, 2015\n",
      "7 July 2nd, 2015\n",
      "8 August 2nd, 2015\n",
      "9 September 2nd, 2015\n",
      "10 October 2nd, 2015\n",
      "11 November 2nd, 2015\n",
      "12 December 2nd, 2015\n",
      "13 January 2nd, 2015\n"
     ]
    }
   ],
   "source": [
    "dates = [Date(4, 1, 2016), Date(2, 2, 2015),\n",
    "         Date(2, 3, 2015), Date(1, 4, 2015),\n",
    "         Date(2, 5, 2015), Date(2, 6, 2015),\n",
    "         Date(2, 7, 2015), Date(2, 8, 2015),\n",
    "         Date(2, 9, 2015), Date(2, 10, 2015),\n",
    "         Date(2, 11, 2015), Date(2, 12, 2015),\n",
    "         Date(2, 1, 2015),]\n",
    "\n",
    "rolling_convention = Following\n",
    "\n",
    "schedule = Schedule(dates, calendar, rolling_convention)\n",
    "\n",
    "for i, d in enumerate(schedule):\n",
    "    print(i+1, d)"
   ]
  },
  {
   "cell_type": "markdown",
   "metadata": {},
   "source": [
    "## Interest Rate"
   ]
  },
  {
   "cell_type": "code",
   "execution_count": 50,
   "metadata": {},
   "outputs": [
    {
     "name": "stdout",
     "output_type": "stream",
     "text": [
      "5.000000 % Actual/Actual (ISDA) Annual compounding\n"
     ]
    }
   ],
   "source": [
    "annual_rate = 0.05\n",
    "day_count = ActualActual()\n",
    "compound_type = Compounded\n",
    "frequency = Annual\n",
    "\n",
    "interest_rate = InterestRate(annual_rate,\n",
    "                             day_count,\n",
    "                             compound_type,\n",
    "                             frequency)\n",
    "print(interest_rate)"
   ]
  },
  {
   "cell_type": "code",
   "execution_count": 33,
   "metadata": {},
   "outputs": [
    {
     "name": "stdout",
     "output_type": "stream",
     "text": [
      "1.1025\n",
      "1.1025\n"
     ]
    }
   ],
   "source": [
    "t = 2\n",
    "print(interest_rate.compoundFactor(t))\n",
    "print((1+annual_rate) * (1+annual_rate))"
   ]
  },
  {
   "cell_type": "code",
   "execution_count": 35,
   "metadata": {},
   "outputs": [
    {
     "name": "stdout",
     "output_type": "stream",
     "text": [
      "0.9070294784580498\n",
      "0.9070294784580498\n"
     ]
    }
   ],
   "source": [
    "print(interest_rate.discountFactor(t))\n",
    "print(1 / interest_rate.compoundFactor(t))"
   ]
  },
  {
   "cell_type": "code",
   "execution_count": 47,
   "metadata": {},
   "outputs": [
    {
     "name": "stdout",
     "output_type": "stream",
     "text": [
      "4.939015 % Actual/Actual (ISDA) Semiannual compounding\n",
      "0.04939015319191986\n"
     ]
    }
   ],
   "source": [
    "new_frequency = Semiannual\n",
    "new_interest_rate = interest_rate.equivalentRate(compound_type, new_frequency, t)\n",
    "new_annual_rate = new_interest_rate.rate()\n",
    "print(new_interest_rate)\n",
    "print(new_annual_rate)"
   ]
  },
  {
   "cell_type": "code",
   "execution_count": 49,
   "metadata": {},
   "outputs": [
    {
     "name": "stdout",
     "output_type": "stream",
     "text": [
      "0.9070294784580498\n",
      "0.9070294784580495\n"
     ]
    }
   ],
   "source": [
    "print(interest_rate.discountFactor(t))\n",
    "print(new_interest_rate.discountFactor(t))"
   ]
  },
  {
   "cell_type": "code",
   "execution_count": null,
   "metadata": {},
   "outputs": [],
   "source": []
  },
  {
   "cell_type": "code",
   "execution_count": null,
   "metadata": {},
   "outputs": [],
   "source": []
  }
 ],
 "metadata": {
  "kernelspec": {
   "display_name": "Python 3",
   "language": "python",
   "name": "python3"
  },
  "language_info": {
   "codemirror_mode": {
    "name": "ipython",
    "version": 3
   },
   "file_extension": ".py",
   "mimetype": "text/x-python",
   "name": "python",
   "nbconvert_exporter": "python",
   "pygments_lexer": "ipython3",
   "version": "3.7.3"
  }
 },
 "nbformat": 4,
 "nbformat_minor": 2
}
